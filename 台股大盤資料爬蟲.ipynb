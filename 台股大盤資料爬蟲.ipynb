{
 "cells": [
  {
   "cell_type": "markdown",
   "id": "ec9cf476-7d89-4fd9-8aa6-06218c9b6ca8",
   "metadata": {},
   "source": [
    "步驟1:\n",
    "網址:https://www.twse.com.tw/zh/indices/taiex/mi-5min-hist.html  首頁 >指數資訊 >TWSE自行編製指數 >發行量加權股價指數歷史資料\n",
    "\n",
    "步驟2:\n",
    "開啟chrome開發人員工具(F12) >檢查>Network>XHR\n",
    "\n",
    "步驟3:\n",
    "點擊查詢按鈕 觀察 chrome開發人員工具 找到 MI_5MIS..檔案\n",
    "\n"
   ]
  },
  {
   "cell_type": "code",
   "execution_count": 22,
   "id": "96cbe630-a8fc-46ba-8234-5baedf2a7b0d",
   "metadata": {
    "tags": []
   },
   "outputs": [
    {
     "data": {
      "text/html": [
       "<div>\n",
       "<style scoped>\n",
       "    .dataframe tbody tr th:only-of-type {\n",
       "        vertical-align: middle;\n",
       "    }\n",
       "\n",
       "    .dataframe tbody tr th {\n",
       "        vertical-align: top;\n",
       "    }\n",
       "\n",
       "    .dataframe thead th {\n",
       "        text-align: right;\n",
       "    }\n",
       "</style>\n",
       "<table border=\"1\" class=\"dataframe\">\n",
       "  <thead>\n",
       "    <tr style=\"text-align: right;\">\n",
       "      <th></th>\n",
       "      <th>日期</th>\n",
       "      <th>開盤指數</th>\n",
       "      <th>最高指數</th>\n",
       "      <th>最低指數</th>\n",
       "      <th>收盤指數</th>\n",
       "    </tr>\n",
       "  </thead>\n",
       "  <tbody>\n",
       "    <tr>\n",
       "      <th>0</th>\n",
       "      <td>113/08/01</td>\n",
       "      <td>22,546.40</td>\n",
       "      <td>22,652.21</td>\n",
       "      <td>22,465.06</td>\n",
       "      <td>22,642.10</td>\n",
       "    </tr>\n",
       "    <tr>\n",
       "      <th>1</th>\n",
       "      <td>113/08/02</td>\n",
       "      <td>22,141.20</td>\n",
       "      <td>22,141.20</td>\n",
       "      <td>21,636.22</td>\n",
       "      <td>21,638.09</td>\n",
       "    </tr>\n",
       "    <tr>\n",
       "      <th>2</th>\n",
       "      <td>113/08/05</td>\n",
       "      <td>20,982.92</td>\n",
       "      <td>20,982.92</td>\n",
       "      <td>19,783.50</td>\n",
       "      <td>19,830.88</td>\n",
       "    </tr>\n",
       "    <tr>\n",
       "      <th>3</th>\n",
       "      <td>113/08/06</td>\n",
       "      <td>20,344.39</td>\n",
       "      <td>20,751.50</td>\n",
       "      <td>19,662.74</td>\n",
       "      <td>20,501.02</td>\n",
       "    </tr>\n",
       "    <tr>\n",
       "      <th>4</th>\n",
       "      <td>113/08/07</td>\n",
       "      <td>20,638.28</td>\n",
       "      <td>21,306.23</td>\n",
       "      <td>20,638.28</td>\n",
       "      <td>21,295.28</td>\n",
       "    </tr>\n",
       "  </tbody>\n",
       "</table>\n",
       "</div>"
      ],
      "text/plain": [
       "          日期       開盤指數       最高指數       最低指數       收盤指數\n",
       "0  113/08/01  22,546.40  22,652.21  22,465.06  22,642.10\n",
       "1  113/08/02  22,141.20  22,141.20  21,636.22  21,638.09\n",
       "2  113/08/05  20,982.92  20,982.92  19,783.50  19,830.88\n",
       "3  113/08/06  20,344.39  20,751.50  19,662.74  20,501.02\n",
       "4  113/08/07  20,638.28  21,306.23  20,638.28  21,295.28"
      ]
     },
     "execution_count": 22,
     "metadata": {},
     "output_type": "execute_result"
    }
   ],
   "source": [
    "# 步驟4:匯入套件\n",
    "import requests as r\n",
    "import json\n",
    "import pandas as pd\n",
    "from datetime import datetime , date \n",
    "\n",
    "url = \"https://www.twse.com.tw/rwd/zh/TAIEX/MI_5MINS_HIST?date=20240816&response=json&_=1724026128642\" #可更改date日期 下載其他月份資料\n",
    "\n",
    "# url = \"https://www.twse.com.tw/indicesReport/MI_5MINS_HIST?response=json&date=20240816\"\n",
    "\n",
    "res = r.get(url)\n",
    "res\n",
    "stock_json = res.json()\n",
    "\n",
    "stock_json\n",
    "stock_json['data']\n",
    "stock_df = pd.DataFrame(stock_json['data']) #轉成DataFrame 較好閱讀\n",
    "stock_df\n",
    "stock_df.head()\n",
    "\n",
    "stock_df.columns = stock_json['fields'] #加入欄位名稱\n",
    "stock_df.head()"
   ]
  },
  {
   "cell_type": "code",
   "execution_count": null,
   "id": "8000678b-007c-4fb4-a094-72dc8c5dc418",
   "metadata": {},
   "outputs": [],
   "source": [
    "#下載歷年台股大盤"
   ]
  }
 ],
 "metadata": {
  "kernelspec": {
   "display_name": "Python 3 (ipykernel)",
   "language": "python",
   "name": "python3"
  },
  "language_info": {
   "codemirror_mode": {
    "name": "ipython",
    "version": 3
   },
   "file_extension": ".py",
   "mimetype": "text/x-python",
   "name": "python",
   "nbconvert_exporter": "python",
   "pygments_lexer": "ipython3",
   "version": "3.11.5"
  }
 },
 "nbformat": 4,
 "nbformat_minor": 5
}
